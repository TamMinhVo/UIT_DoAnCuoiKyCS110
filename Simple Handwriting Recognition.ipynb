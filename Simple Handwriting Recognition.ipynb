{
 "cells": [
  {
   "cell_type": "code",
   "execution_count": null,
   "metadata": {},
   "outputs": [],
   "source": [
    "# HANDWRITING dựa theo matplotlib tutorial\n",
    "\n",
    "# Bước 1: import libraries và dataset từ Scikit_Learn\n",
    "import matplotlib.pyplot as plt\n",
    "%matplotlib inline\n",
    "#sử dụng thư viện machine learning có sẵn của python\n",
    "from sklearn.datasets import load_digits\n",
    "\n",
    "digits = load_digits()"
   ]
  },
  {
   "cell_type": "code",
   "execution_count": null,
   "metadata": {},
   "outputs": [],
   "source": [
    "# Bước 2: Phân tích mẫu\n",
    "import pylab as pl # sử dụng pylab cho gray scale\n",
    "pl.gray()\n",
    "pl.matshow(digits.images[0])\n",
    "pl.show()"
   ]
  },
  {
   "cell_type": "code",
   "execution_count": null,
   "metadata": {
    "scrolled": true
   },
   "outputs": [],
   "source": [
    "# Bước 3: Phân tích pixel ảnh: Mỗi phần tử đại diện cho pixel của hình ảnh trong thang độ xám.\n",
    "                                # Giá trị nằm trong khoảng từ 0 đến 255 cho pixel 8 bit.\n",
    "digits.images[1] # xuất ra ma trận 8x8, đây là cách mà python nhìn ra số 0 dưới dạng ma trận"
   ]
  },
  {
   "cell_type": "code",
   "execution_count": null,
   "metadata": {},
   "outputs": [],
   "source": [
    "#Bước 4: Visualize 15 ảnh\n",
    "images_and_labels = list(zip(digits.images, digits.target)) #ảnh chữ viết tay có sẵn \n",
    "plt.figure(figsize=(5,5))\n",
    "for index, (image, label) in enumerate(images_and_labels[:15]):\n",
    "    plt.subplot(3, 5, index + 1)\n",
    "    plt.axis('off')\n",
    "    plt.imshow(image, cmap=plt.cm.gray_r, interpolation='nearest')\n",
    "    plt.title('%i' % label)"
   ]
  },
  {
   "cell_type": "code",
   "execution_count": null,
   "metadata": {},
   "outputs": [],
   "source": [
    "import random # để sử dụng random forest classifier\n",
    "from sklearn import ensemble\n",
    "\n",
    "#khai báo biến\n",
    "n_samples = len(digits.images)\n",
    "x = digits.images.reshape((n_samples, -1)) # x là số ảnh có được sau khi reshape ảnh nguồn cho phù hợp\n",
    "y = digits.target\n",
    "\n",
    "#Tạo các chỉ số ngẫu nhiên\n",
    "sample_index=random.sample(range(len(x)),len(x)//5) #sample chính là MẪU, 20% dùng training, 80% test\n",
    "valid_index=[i for i in range(len(x)) if i not in sample_index]\n",
    "\n",
    "#Ảnh mẫu và xác nhận\n",
    "sample_images=[x[i] for i in sample_index]\n",
    "valid_images=[x[i] for i in valid_index]\n",
    "\n",
    "#Mục tiêu mẫu và xác nhận\n",
    "sample_target=[y[i] for i in sample_index]\n",
    "valid_target=[y[i] for i in valid_index]\n",
    "\n",
    "#Dùng Random Forest Classifier\n",
    "classifier = ensemble.RandomForestClassifier()\n",
    "\n",
    "#Tối ưu hóa model mà hàm có sẵn trong classifier\n",
    "classifier.fit(sample_images, sample_target)\n",
    "\n",
    "#Dự đoán độ chính xác\n",
    "score=classifier.score(valid_images, valid_target)\n",
    "print ('Random Tree Classifier:' )\n",
    "print ('Score\\t'+str(score))"
   ]
  },
  {
   "cell_type": "code",
   "execution_count": null,
   "metadata": {},
   "outputs": [],
   "source": [
    "i=11 #i là chỉ số của hình trong kho\n",
    "pl.gray()\n",
    "pl.matshow(digits.images[i])\n",
    "pl.show()\n",
    "#classifier.predict(x[i])"
   ]
  }
 ],
 "metadata": {
  "kernelspec": {
   "display_name": "Python 3",
   "language": "python",
   "name": "python3"
  },
  "language_info": {
   "codemirror_mode": {
    "name": "ipython",
    "version": 3
   },
   "file_extension": ".py",
   "mimetype": "text/x-python",
   "name": "python",
   "nbconvert_exporter": "python",
   "pygments_lexer": "ipython3",
   "version": "3.6.7"
  }
 },
 "nbformat": 4,
 "nbformat_minor": 2
}
