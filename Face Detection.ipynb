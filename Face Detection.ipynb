{
 "cells": [
  {
   "cell_type": "code",
   "execution_count": 1,
   "metadata": {},
   "outputs": [],
   "source": [
    "import cv2\n",
    "import numpy as np\n",
    "from _datetime import datetime\n",
    "\n",
    "# Chú ý đường dẫn trỏ đến file xml, tùy việc Open được cài ở đâu mà trỏ đường dẫn đến nơi tương ứng.\n",
    "face_cascade = cv2.CascadeClassifier('C:\\\\opencv\\\\build\\\\etc\\\\haarcascades\\\\haarcascade_frontalface_default.xml')\n",
    "eye_cascade = cv2.CascadeClassifier('C:\\\\opencv\\\\build\\\\etc\\\\haarcascades\\\\haarcascade_eye.xml')\n",
    "smile_cascade = cv2.CascadeClassifier('C:\\\\opencv\\\\build\\\\etc\\\\haarcascades\\\\haarcascade_smile.xml')\n",
    "\n",
    "#bật camera lên\n",
    "cap = cv2.VideoCapture(0)\n",
    "\n",
    "while(True):\n",
    "    #lấy frame\n",
    "    ret, img = cap.read()\n",
    "    \n",
    "    gray = cv2.cvtColor(img, cv2.COLOR_BGR2GRAY)\n",
    "    gray = cv2.GaussianBlur(gray, (21,21), 0)\n",
    "    \n",
    "    faces = face_cascade.detectMultiScale(gray, 1.3, 2) # Dectect khuôn mặt\n",
    "    \n",
    "    for(x, y, w, h) in faces:\n",
    "        cv2.rectangle(img, (x,y), (x+w, y+h), (255,0,0), 2) # Vẽ hình chữ nhật bao quanh khuôn mặt, (255,0,0): màu xanh dương, 2: độ đậm của viền, có thể thay đổi\n",
    "        roi_gray = gray[y:y + h, x:x + w]\n",
    "        roi_color = img[y:y + h, x:x + w]\n",
    "        \n",
    "        eyes = eye_cascade.detectMultiScale(roi_gray) # Detect mắt\n",
    "        for(ex, ey, ew, eh) in eyes:\n",
    "            cv2.rectangle(roi_color, (ex, ey), (ex+ew, ey+eh), (0,255,0), 2) # Vẽ hình chữ nhật bao quanh mắt,(0,255,0), 2) tương tự như trên\n",
    "        \n",
    "        smile = smile_cascade.detectMultiScale(roi_gray, scaleFactor=1.3, minNeighbors=22, minSize=(10, 10)) # Detect nụ cười/môi\n",
    "        for(sx, sy, sw, sh) in smile:\n",
    "            cv2.rectangle(roi_color, (sx, sy), (sx + sw, sy + sh), (0, 255, 100), 2) # Vẽ hình chữ nhật...\n",
    "            sm_ratio = str(round(sw / sx, 3))\n",
    "            font = cv2.FONT_HERSHEY_SIMPLEX\n",
    "            cv2.putText(img, 'Smile meter : ' + sm_ratio, (10, 50), font, 1, (200, 255, 155), 2, cv2.LINE_AA)\n",
    "    #Nếu muốn mở full screen dùng thêm 2 dòng lệnh tiếp theo\n",
    "    #cv2.namedWindow('img', cv2.WND_PROP_FULLSCREEN)\n",
    "    #cv2.setWindowProperty('img', cv2.WND_PROP_FULLSCREEN, cv2.WINDOW_FULLSCREEN)\n",
    "    cv2.imshow('img', img)\n",
    "    k = cv2.waitKey(30) & 0xFF #Nhấn phím Esc để thoát\n",
    "    if k == 27:\n",
    "        break\n",
    "\n",
    "cap.release()\n",
    "cv2.destroyAllWindows()"
   ]
  }
 ],
 "metadata": {
  "kernelspec": {
   "display_name": "Python 3",
   "language": "python",
   "name": "python3"
  },
  "language_info": {
   "codemirror_mode": {
    "name": "ipython",
    "version": 3
   },
   "file_extension": ".py",
   "mimetype": "text/x-python",
   "name": "python",
   "nbconvert_exporter": "python",
   "pygments_lexer": "ipython3",
   "version": "3.6.7"
  }
 },
 "nbformat": 4,
 "nbformat_minor": 2
}
